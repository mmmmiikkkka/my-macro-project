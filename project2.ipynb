{
  "nbformat": 4,
  "nbformat_minor": 0,
  "metadata": {
    "colab": {
      "provenance": [],
      "include_colab_link": true
    },
    "kernelspec": {
      "name": "python3",
      "display_name": "Python 3"
    },
    "language_info": {
      "name": "python"
    }
  },
  "cells": [
    {
      "cell_type": "markdown",
      "metadata": {
        "id": "view-in-github",
        "colab_type": "text"
      },
      "source": [
        "<a href=\"https://colab.research.google.com/github/mmmmiikkkka/my-macro-project/blob/main/project2.ipynb\" target=\"_parent\"><img src=\"https://colab.research.google.com/assets/colab-badge.svg\" alt=\"Open In Colab\"/></a>"
      ]
    },
    {
      "cell_type": "code",
      "execution_count": 4,
      "metadata": {
        "colab": {
          "base_uri": "https://localhost:8080/"
        },
        "id": "KRIoOGOKcD0V",
        "outputId": "e4e036c4-d371-408c-b3d3-5d50c35a89e0"
      },
      "outputs": [
        {
          "output_type": "stream",
          "name": "stdout",
          "text": [
            "Growth Accounting in OECD Countries: 1970-2010 period\n",
            "=====================================================================================\n",
            "       Country  Growth Rate  TFP Growth  Capital Deepening  TFP Share  Capital Share\n",
            "     Australia         1.74        1.21               0.25       0.75           0.16\n",
            "       Austria         3.08        2.27               0.31       0.99           0.14\n",
            "       Belgium         2.72        2.60               0.11       1.08           0.04\n",
            "        Canada         1.45        0.90               0.30       0.61           0.21\n",
            "       Denmark         2.31        1.75               0.29       0.98           0.16\n",
            "       Finland         3.38        2.63               0.46       0.99           0.17\n",
            "        France         2.86        2.41               0.44       1.11           0.20\n",
            "       Germany         2.73        2.53               0.19       1.29           0.10\n",
            "        Greece         3.53        1.89               0.43       0.89           0.20\n",
            "       Iceland         2.00        1.66              -0.15       0.99          -0.09\n",
            "       Ireland         3.52        3.98              -0.19       1.06          -0.05\n",
            "         Italy         3.33        2.45               0.72       0.85           0.25\n",
            "         Japan         4.21        1.26               1.01       0.65           0.52\n",
            "   Netherlands         2.20        2.08               0.31       0.91           0.14\n",
            "   New Zealand         1.20        0.80               0.33       0.70           0.29\n",
            "        Norway         2.69        2.90               0.40       0.94           0.13\n",
            "      Portugal         3.10        1.71               0.08       0.84           0.04\n",
            "         Spain         3.50        2.39               0.20       0.99           0.08\n",
            "        Sweden         2.30        1.50               0.36       0.84           0.20\n",
            "United Kingdom         2.21        2.00              -0.07       1.28          -0.05\n",
            " United States         1.82        1.40              -0.05       0.84          -0.03\n",
            "       Average         2.66        2.02               0.27       0.93           0.13\n"
          ]
        },
        {
          "output_type": "stream",
          "name": "stderr",
          "text": [
            "<ipython-input-4-7faa663e9f37>:27: DeprecationWarning: DataFrameGroupBy.apply operated on the grouping columns. This behavior is deprecated, and in a future version of pandas the grouping columns will be excluded from the operation. Either pass `include_groups=False` to exclude the groupings or explicitly select the grouping columns after groupby to silence this warning.\n",
            "  data = data.sort_values('year').groupby('countrycode').apply(lambda x: x.assign(\n",
            "<ipython-input-4-7faa663e9f37>:79: DeprecationWarning: DataFrameGroupBy.apply operated on the grouping columns. This behavior is deprecated, and in a future version of pandas the grouping columns will be excluded from the operation. Either pass `include_groups=False` to exclude the groupings or explicitly select the grouping columns after groupby to silence this warning.\n",
            "  results_list = data.groupby('country').apply(calculate_growth_rates).dropna().tolist()\n"
          ]
        }
      ],
      "source": [
        "import pandas as pd\n",
        "import numpy as np\n",
        "\n",
        "pwt90 = pd.read_stata('https://www.rug.nl/ggdc/docs/pwt90.dta')\n",
        "\n",
        "oecd_countries = [\n",
        "    'Australia', 'Austria', 'Belgium', 'Canada', 'Denmark', 'Finland', 'France', 'Germany', 'Greece',\n",
        "    'Iceland', 'Ireland', 'Italy', 'Japan', 'Netherlands', 'New Zealand', 'Norway', 'Portugal',\n",
        "    'Spain', 'Sweden', 'Switherland', 'United Kingdom', 'United States',\n",
        "]\n",
        "\n",
        "data = pwt90[\n",
        "    pwt90['country'].isin(oecd_countries) &\n",
        "    pwt90['year'].between(1960, 2000)\n",
        "]\n",
        "\n",
        "relevant_cols = ['countrycode', 'country', 'year', 'rgdpna', 'rkna', 'pop', 'emp', 'avh', 'labsh', 'rtfpna']\n",
        "data = data[relevant_cols].dropna()\n",
        "\n",
        "# Calculate additional variables\n",
        "data['alpha'] = 1 - data['labsh']\n",
        "data['y_n'] = data['rgdpna'] / data['emp']  # Y/N\n",
        "data['hours'] = data['emp'] * data['avh']  # L\n",
        "data['tfp_term'] = data['rtfpna'] ** (1 / (1 - data['alpha']))  # A^(1/(1-alpha))\n",
        "data['cap_term'] = (data['rkna'] / data['rgdpna']) ** (data['alpha'] / (1 - data['alpha']))  # (K/Y)^(alpha/(1-alpha))\n",
        "data['lab_term'] = data['hours'] / data['pop']  # L/N\n",
        "data = data.sort_values('year').groupby('countrycode').apply(lambda x: x.assign(\n",
        "    alpha=1 - x['labsh'],\n",
        "    y_n_shifted=100 * x['y_n'] / x['y_n'].iloc[0],\n",
        "    tfp_term_shifted=100 * x['tfp_term'] / x['tfp_term'].iloc[0],\n",
        "    cap_term_shifted=100 * x['cap_term'] / x['cap_term'].iloc[0],\n",
        "    lab_term_shifted=100 * x['lab_term'] / x['lab_term'].iloc[0]\n",
        ")).reset_index(drop=True).dropna()\n",
        "\n",
        "#成長会計\n",
        "def calculate_growth_rates(country_data):\n",
        "\n",
        "    start_year_actual = country_data['year'].min()\n",
        "    end_year_actual = country_data['year'].max()\n",
        "\n",
        "    start_data = country_data[country_data['year'] == start_year_actual].iloc[0]\n",
        "    end_data = country_data[country_data['year'] == end_year_actual].iloc[0]\n",
        "\n",
        "    years = end_data['year'] - start_data['year']\n",
        "\n",
        "    g_y = ((end_data['y_n'] / start_data['y_n']) ** (1/years) - 1) * 100 #Y/Nの成長率\n",
        "    g_k = ((end_data['cap_term'] / start_data['cap_term']) ** (1/years) - 1) * 100 #K/Yの成長率\n",
        "    g_l = ((end_data['lab_term'] / start_data['lab_term']) ** (1/years) - 1) * 100 #L/Nの成長率\n",
        "    g_a = ((end_data['tfp_term'] / start_data['tfp_term']) ** (1/years) - 1) * 100 #TFPの成長率\n",
        "\n",
        "    alpha_avg = (start_data['alpha'] + end_data['alpha']) / 2.0 #平均α\n",
        "\n",
        "    #各要素の寄与\n",
        "    capital_deepening_contrib = alpha_avg * g_k\n",
        "    labor_contribution_contrib = (1 - alpha_avg) * g_l\n",
        "    tfp_growth_calculated = g_a\n",
        "\n",
        "    #GDP成長率＝TFP成長率＋α＊資本成長率＋（1－α）＊労働成長率\n",
        "    total_growth_identity = tfp_growth_calculated + capital_deepening_contrib + labor_contribution_contrib\n",
        "\n",
        "    #構成比\n",
        "    tfp_share = (tfp_growth_calculated / total_growth_identity)\n",
        "    cap_share = (capital_deepening_contrib / total_growth_identity)\n",
        "    labor_share = (labor_contribution_contrib / total_growth_identity)\n",
        "\n",
        "    return {\n",
        "        'Country': start_data['country'],\n",
        "        'Growth Rate': round(g_y, 2),\n",
        "        'TFP Growth': round(tfp_growth_calculated, 2),\n",
        "        'Capital Deepening': round(capital_deepening_contrib, 2),\n",
        "        'TFP Share': round(tfp_share, 2),\n",
        "        'Capital Share': round(cap_share, 2)\n",
        "    }\n",
        "\n",
        "#表の作成\n",
        "results_list = data.groupby('country').apply(calculate_growth_rates).dropna().tolist()\n",
        "results_df = pd.DataFrame(results_list)\n",
        "\n",
        "avg_row_data = {\n",
        "    'Country': 'Average',\n",
        "    'Growth Rate': round(results_df['Growth Rate'].mean(), 2),\n",
        "    'TFP Growth': round(results_df['TFP Growth'].mean(), 2),\n",
        "    'Capital Deepening': round(results_df['Capital Deepening'].mean(), 2),\n",
        "    'TFP Share': round(results_df['TFP Share'].mean(), 2),\n",
        "    'Capital Share': round(results_df['Capital Share'].mean(), 2)\n",
        "}\n",
        "results_df = pd.concat([results_df, pd.DataFrame([avg_row_data])], ignore_index=True)\n",
        "\n",
        "print(\"Growth Accounting in OECD Countries: 1970-2010 period\")\n",
        "print(\"=\"*85)\n",
        "print(results_df.to_string(index=False))\n"
      ]
    },
    {
      "cell_type": "markdown",
      "source": [
        "・与えられたファイルをそのまま回してもエラーが出るようになっている\n",
        "・一つ一つに説明をいれなくてはいけない\n",
        "・経済学として何をしているか理解する\n",
        "\n",
        "☆GDP成長率＝TFP成長率＋α＊資本成長率＋（1－α）＊労働成長率"
      ],
      "metadata": {
        "id": "B7utO9Eyhtol"
      }
    }
  ]
}