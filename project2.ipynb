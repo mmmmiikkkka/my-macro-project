{
  "nbformat": 4,
  "nbformat_minor": 0,
  "metadata": {
    "colab": {
      "provenance": [],
      "include_colab_link": true
    },
    "kernelspec": {
      "name": "python3",
      "display_name": "Python 3"
    },
    "language_info": {
      "name": "python"
    }
  },
  "cells": [
    {
      "cell_type": "markdown",
      "metadata": {
        "id": "view-in-github",
        "colab_type": "text"
      },
      "source": [
        "<a href=\"https://colab.research.google.com/github/mmmmiikkkka/my-macro-project/blob/main/project2.ipynb\" target=\"_parent\"><img src=\"https://colab.research.google.com/assets/colab-badge.svg\" alt=\"Open In Colab\"/></a>"
      ]
    },
    {
      "cell_type": "code",
      "execution_count": null,
      "metadata": {
        "colab": {
          "base_uri": "https://localhost:8080/"
        },
        "id": "KRIoOGOKcD0V",
        "outputId": "83179132-1388-4565-f823-9ea140ca4ffb"
      },
      "outputs": [
        {
          "output_type": "stream",
          "name": "stdout",
          "text": [
            "Growth Accounting in OECD Countries: 1960-2000 period\n",
            "=====================================================================================\n",
            "       Country  Growth Rate  TFP Growth  Capital Deepening  TFP Share  Capital Share\n",
            "     Australia         1.89        1.25               0.65       0.66           0.34\n",
            "       Austria         3.38        1.84               1.54       0.54           0.46\n",
            "       Belgium         3.25        2.06               1.19       0.63           0.37\n",
            "        Canada         1.84        1.10               0.74       0.60           0.40\n",
            "       Denmark         2.95        1.52               1.42       0.52           0.48\n",
            "       Finland         3.74        2.25               1.49       0.60           0.40\n",
            "        France         3.71        2.35               1.37       0.63           0.37\n",
            "       Germany         3.71        2.19               1.52       0.59           0.41\n",
            "        Greece         3.60        1.42               2.18       0.39           0.61\n",
            "       Iceland         2.57        1.56               1.01       0.61           0.39\n",
            "       Ireland         3.96        2.21               1.75       0.56           0.44\n",
            "         Italy         3.68        1.93               1.75       0.52           0.48\n",
            "         Japan         4.69        1.28               3.40       0.27           0.73\n",
            "   Netherlands         2.76        1.87               0.90       0.68           0.32\n",
            "   New Zealand         1.35        0.71               0.63       0.53           0.47\n",
            "        Norway         3.47        2.21               1.26       0.64           0.36\n",
            "      Portugal         3.41        1.98               1.43       0.58           0.42\n",
            "         Spain         3.71        2.01               1.69       0.54           0.46\n",
            "        Sweden         2.40        1.18               1.22       0.49           0.51\n",
            "United Kingdom         2.84        1.67               1.17       0.59           0.41\n",
            " United States         1.91        1.32               0.59       0.69           0.31\n",
            "       Average         3.09        1.71               1.38       0.56           0.44\n"
          ]
        },
        {
          "output_type": "stream",
          "name": "stderr",
          "text": [
            "<ipython-input-2-e26bc4619726>:31: DeprecationWarning: DataFrameGroupBy.apply operated on the grouping columns. This behavior is deprecated, and in a future version of pandas the grouping columns will be excluded from the operation. Either pass `include_groups=False` to exclude the groupings or explicitly select the grouping columns after groupby to silence this warning.\n",
            "  .apply(lambda x: x.assign(\n",
            "<ipython-input-2-e26bc4619726>:82: DeprecationWarning: DataFrameGroupBy.apply operated on the grouping columns. This behavior is deprecated, and in a future version of pandas the grouping columns will be excluded from the operation. Either pass `include_groups=False` to exclude the groupings or explicitly select the grouping columns after groupby to silence this warning.\n",
            "  results_list = data.groupby('country').apply(calculate_growth_rates).dropna().tolist()\n"
          ]
        }
      ],
      "source": [
        "import pandas as pd\n",
        "import numpy as np\n",
        "\n",
        "pwt90 = pd.read_stata('https://www.rug.nl/ggdc/docs/pwt90.dta')\n",
        "\n",
        "oecd_countries = [\n",
        "    'Australia', 'Austria', 'Belgium', 'Canada', 'Denmark', 'Finland', 'France', 'Germany', 'Greece',\n",
        "    'Iceland', 'Ireland', 'Italy', 'Japan', 'Netherlands', 'New Zealand', 'Norway', 'Portugal',\n",
        "    'Spain', 'Sweden', 'Switherland', 'United Kingdom', 'United States',\n",
        "]\n",
        "\n",
        "data = pwt90[\n",
        "    pwt90['country'].isin(oecd_countries) &\n",
        "    pwt90['year'].between(1960, 2000)\n",
        "]\n",
        "\n",
        "relevant_cols = ['countrycode', 'country', 'year', 'rgdpna', 'rkna', 'pop', 'emp', 'avh', 'labsh', 'rtfpna']\n",
        "data = data[relevant_cols].dropna()\n",
        "\n",
        "# Calculate additional variables\n",
        "data['alpha'] = 1 - data['labsh']\n",
        "data['hours'] = data['emp'] * data['avh']  # L\n",
        "data['y_n'] = data['rgdpna'] / data['pop']  # Y/N\n",
        "data['y_l'] = data['rgdpna'] / data['hours'] #Y/L\n",
        "data['k_l'] = data['rkna'] / data['hours'] #K/L\n",
        "data['cap_term'] = data['rkna'] / data['pop'] # K/Y\n",
        "data['lab_term'] = data['hours'] / data['pop']  # L/N\n",
        "data = (\n",
        "    data.sort_values('year')\n",
        "        .groupby('countrycode', group_keys=False)\n",
        "        .apply(lambda x: x.assign(\n",
        "            alpha=1 - x['labsh'],\n",
        "            y_n_shifted=100 * x['y_n'] / x['y_n'].iloc[0],\n",
        "            tfp_term_shifted=100 * x['rtfpna'] / x['rtfpna'].iloc[0],\n",
        "            cap_term_shifted=100 * x['cap_term'] / x['cap_term'].iloc[0],\n",
        "            lab_term_shifted=100 * x['lab_term'] / x['lab_term'].iloc[0]\n",
        "        ))\n",
        ").reset_index(drop=True).dropna()\n",
        "\n",
        "#成長会計\n",
        "def calculate_growth_rates(country_data):\n",
        "\n",
        "    country_data = country_data.sort_values('year')\n",
        "    start_year_actual = country_data['year'].min()\n",
        "    end_year_actual = country_data['year'].max()\n",
        "\n",
        "    start_data = country_data[country_data['year'] == start_year_actual].iloc[0]\n",
        "    end_data = country_data[country_data['year'] == end_year_actual].iloc[0]\n",
        "\n",
        "    years = end_data['year'] - start_data['year']\n",
        "\n",
        "    #各種成長率\n",
        "    g_y = (np.log(end_data['y_l']) - np.log(start_data['y_l'])) / years * 100  # Y/L\n",
        "    g_k = (np.log(end_data['k_l']) - np.log(start_data['k_l'])) / years * 100  # K/L\n",
        "    g_l = (np.log(end_data['hours']) - np.log(start_data['hours'])) / years * 100  # L\n",
        "\n",
        "    alpha_avg = country_data['alpha'].mean()\n",
        "    g_a = g_y - alpha_avg * g_k  #TFP\n",
        "\n",
        "    #各要素の寄与\n",
        "    capital_deepening_contrib = alpha_avg * g_k\n",
        "    labor_deepening_contrib = (1 - alpha_avg) * g_l\n",
        "    tfp_growth_calculated = g_a\n",
        "\n",
        "    #GDP成長率＝TFP成長率＋α＊資本成長率＋（1－α）＊労働成長率\n",
        "    total_growth = tfp_growth_calculated + capital_deepening_contrib + labor_deepening_contrib\n",
        "\n",
        "    #構成比\n",
        "    tfp_share = (tfp_growth_calculated / g_y)\n",
        "    cap_share = (capital_deepening_contrib / g_y)\n",
        "\n",
        "    return {\n",
        "        'Country': start_data['country'],\n",
        "        'Growth Rate': round(g_y, 2),\n",
        "        'TFP Growth': round(tfp_growth_calculated, 2),\n",
        "        'Capital Deepening': round(capital_deepening_contrib, 2),\n",
        "        'TFP Share': round(tfp_share, 2),\n",
        "        'Capital Share': round(cap_share, 2)\n",
        "    }\n",
        "\n",
        "#表の作成\n",
        "results_list = data.groupby('country').apply(calculate_growth_rates).dropna().tolist()\n",
        "results_df = pd.DataFrame(results_list)\n",
        "\n",
        "avg_row_data = {\n",
        "    'Country': 'Average',\n",
        "    'Growth Rate': round(results_df['Growth Rate'].mean(), 2),\n",
        "    'TFP Growth': round(results_df['TFP Growth'].mean(), 2),\n",
        "    'Capital Deepening': round(results_df['Capital Deepening'].mean(), 2),\n",
        "    'TFP Share': round(results_df['TFP Share'].mean(), 2),\n",
        "    'Capital Share': round(results_df['Capital Share'].mean(), 2)\n",
        "}\n",
        "results_df = pd.concat([results_df, pd.DataFrame([avg_row_data])], ignore_index=True)\n",
        "\n",
        "print(\"Growth Accounting in OECD Countries: 1960-2000 period\")\n",
        "print(\"=\"*85)\n",
        "print(results_df.to_string(index=False))\n"
      ]
    },
    {
      "cell_type": "markdown",
      "source": [
        "・与えられたファイルをそのまま回してもエラーが出るようになっている\n",
        "・一つ一つに説明をいれなくてはいけない\n",
        "・経済学として何をしているか理解する\n",
        "\n",
        "☆GDP成長率＝TFP成長率＋α＊資本成長率＋（1－α）＊労働成長率"
      ],
      "metadata": {
        "id": "B7utO9Eyhtol"
      }
    }
  ]
}