{
  "nbformat": 4,
  "nbformat_minor": 0,
  "metadata": {
    "colab": {
      "provenance": [],
      "name": "midterm2.ipynb",
      "include_colab_link": true
    },
    "kernelspec": {
      "name": "python3",
      "display_name": "Python 3"
    },
    "language_info": {
      "name": "python"
    }
  },
  "cells": [
    {
      "cell_type": "markdown",
      "metadata": {
        "id": "view-in-github",
        "colab_type": "text"
      },
      "source": [
        "<a href=\"https://colab.research.google.com/github/mmmmiikkkka/my-macro-project/blob/main/midterm2.ipynb\" target=\"_parent\"><img src=\"https://colab.research.google.com/assets/colab-badge.svg\" alt=\"Open In Colab\"/></a>"
      ]
    },
    {
      "cell_type": "code",
      "execution_count": null,
      "metadata": {
        "colab": {
          "base_uri": "https://localhost:8080/"
        },
        "id": "KRIoOGOKcD0V",
        "outputId": "68840b96-a2e5-4e41-b478-b92d0b036ef4"
      },
      "outputs": [
        {
          "output_type": "stream",
          "name": "stdout",
          "text": [
            "Growth Accounting in OECD Countries: 1990-2019 period\n",
            "=====================================================================================\n",
            "       Country  Growth Rate  TFP Growth  Capital Deepening  TFP Share  Capital Share\n",
            "     Australia         1.63        0.92               0.72       0.56           0.44\n",
            "       Austria         1.46        0.66               0.80       0.45           0.55\n",
            "       Belgium         0.93        0.29               0.64       0.31           0.69\n",
            "        Canada         1.17        0.47               0.70       0.40           0.60\n",
            "       Denmark         1.26        0.63               0.63       0.50           0.50\n",
            "       Finland         1.74        0.94               0.80       0.54           0.46\n",
            "        France         1.43        0.62               0.82       0.43           0.57\n",
            "       Germany         1.72        0.92               0.80       0.54           0.46\n",
            "        Greece         1.13        0.14               0.99       0.12           0.88\n",
            "       Iceland         1.65        1.26               0.39       0.76           0.24\n",
            "       Ireland         3.48        1.74               1.73       0.50           0.50\n",
            "         Italy         0.78       -0.12               0.91      -0.16           1.16\n",
            "         Japan         1.50       -0.06               1.57      -0.04           1.04\n",
            "   Netherlands         1.05        0.59               0.46       0.56           0.44\n",
            "   New Zealand         0.90        0.50               0.40       0.56           0.44\n",
            "        Norway         1.45        0.72               0.72       0.50           0.50\n",
            "      Portugal         1.74        0.54               1.21       0.31           0.69\n",
            "         Spain         1.08        0.08               1.01       0.07           0.93\n",
            "        Sweden         1.73        1.23               0.50       0.71           0.29\n",
            "   Switzerland         0.78        0.29               0.49       0.37           0.63\n",
            "United Kingdom         1.58        1.11               0.47       0.70           0.30\n",
            " United States         1.71        1.08               0.63       0.63           0.37\n",
            "       Average         1.45        0.66               0.79       0.42           0.58\n"
          ]
        },
        {
          "output_type": "stream",
          "name": "stderr",
          "text": [
            "<ipython-input-2-96f266de75d6>:31: DeprecationWarning: DataFrameGroupBy.apply operated on the grouping columns. This behavior is deprecated, and in a future version of pandas the grouping columns will be excluded from the operation. Either pass `include_groups=False` to exclude the groupings or explicitly select the grouping columns after groupby to silence this warning.\n",
            "  .apply(lambda x: x.assign(\n",
            "<ipython-input-2-96f266de75d6>:82: DeprecationWarning: DataFrameGroupBy.apply operated on the grouping columns. This behavior is deprecated, and in a future version of pandas the grouping columns will be excluded from the operation. Either pass `include_groups=False` to exclude the groupings or explicitly select the grouping columns after groupby to silence this warning.\n",
            "  results_list = data.groupby('country').apply(calculate_growth_rates).dropna().tolist()\n"
          ]
        }
      ],
      "source": [
        "import pandas as pd\n",
        "import numpy as np\n",
        "\n",
        "pwt90 = pd.read_stata('https://www.rug.nl/ggdc/docs/pwt90.dta')\n",
        "\n",
        "oecd_countries = [\n",
        "    'Australia', 'Austria', 'Belgium', 'Canada', 'Denmark', 'Finland', 'France', 'Germany', 'Greece',\n",
        "    'Iceland', 'Ireland', 'Italy', 'Japan', 'Netherlands', 'New Zealand', 'Norway', 'Portugal',\n",
        "    'Spain', 'Sweden', 'Switzerland', 'United Kingdom', 'United States',\n",
        "]\n",
        "\n",
        "data = pwt90[\n",
        "    pwt90['country'].isin(oecd_countries) &\n",
        "    pwt90['year'].between(1990, 2019)\n",
        "]\n",
        "\n",
        "relevant_cols = ['countrycode', 'country', 'year', 'rgdpna', 'rkna', 'pop', 'emp', 'avh', 'labsh', 'rtfpna']\n",
        "data = data[relevant_cols].dropna()\n",
        "\n",
        "# Calculate additional variables\n",
        "data['alpha'] = 1 - data['labsh']\n",
        "data['hours'] = data['emp'] * data['avh']  # L\n",
        "data['y_n'] = data['rgdpna'] / data['pop']  # Y/N\n",
        "data['y_l'] = data['rgdpna'] / data['hours'] #Y/L\n",
        "data['k_l'] = data['rkna'] / data['hours'] #K/L\n",
        "data['cap_term'] = data['rkna'] / data['pop'] # K/Y\n",
        "data['lab_term'] = data['hours'] / data['pop']  # L/N\n",
        "data = (\n",
        "    data.sort_values('year')\n",
        "        .groupby('countrycode', group_keys=False)\n",
        "        .apply(lambda x: x.assign(\n",
        "            alpha=1 - x['labsh'],\n",
        "            y_n_shifted=100 * x['y_n'] / x['y_n'].iloc[0],\n",
        "            tfp_term_shifted=100 * x['rtfpna'] / x['rtfpna'].iloc[0],\n",
        "            cap_term_shifted=100 * x['cap_term'] / x['cap_term'].iloc[0],\n",
        "            lab_term_shifted=100 * x['lab_term'] / x['lab_term'].iloc[0]\n",
        "        ))\n",
        ").reset_index(drop=True).dropna()\n",
        "\n",
        "#成長会計\n",
        "def calculate_growth_rates(country_data):\n",
        "\n",
        "    country_data = country_data.sort_values('year')\n",
        "    start_year_actual = country_data['year'].min()\n",
        "    end_year_actual = country_data['year'].max()\n",
        "\n",
        "    start_data = country_data[country_data['year'] == start_year_actual].iloc[0]\n",
        "    end_data = country_data[country_data['year'] == end_year_actual].iloc[0]\n",
        "\n",
        "    years = end_data['year'] - start_data['year']\n",
        "\n",
        "    #各種成長率\n",
        "    g_y = (np.log(end_data['y_l']) - np.log(start_data['y_l'])) / years * 100  # Y/L\n",
        "    g_k = (np.log(end_data['k_l']) - np.log(start_data['k_l'])) / years * 100  # K/L\n",
        "    g_l = (np.log(end_data['hours']) - np.log(start_data['hours'])) / years * 100  # L\n",
        "\n",
        "    alpha_avg = country_data['alpha'].mean()\n",
        "    g_a = g_y - alpha_avg * g_k  #TFP\n",
        "\n",
        "    #各要素の寄与\n",
        "    capital_deepening_contrib = alpha_avg * g_k\n",
        "    labor_deepening_contrib = (1 - alpha_avg) * g_l\n",
        "    tfp_growth_calculated = g_a\n",
        "\n",
        "    #GDP成長率＝TFP成長率＋α＊資本成長率＋（1－α）＊労働成長率\n",
        "    total_growth = tfp_growth_calculated + capital_deepening_contrib + labor_deepening_contrib\n",
        "\n",
        "    #構成比\n",
        "    tfp_share = (tfp_growth_calculated / g_y)\n",
        "    cap_share = (capital_deepening_contrib / g_y)\n",
        "\n",
        "    return {\n",
        "        'Country': start_data['country'],\n",
        "        'Growth Rate': round(g_y, 2),\n",
        "        'TFP Growth': round(tfp_growth_calculated, 2),\n",
        "        'Capital Deepening': round(capital_deepening_contrib, 2),\n",
        "        'TFP Share': round(tfp_share, 2),\n",
        "        'Capital Share': round(cap_share, 2)\n",
        "    }\n",
        "\n",
        "#表の作成\n",
        "results_list = data.groupby('country').apply(calculate_growth_rates).dropna().tolist()\n",
        "results_df = pd.DataFrame(results_list)\n",
        "\n",
        "avg_row_data = {\n",
        "    'Country': 'Average',\n",
        "    'Growth Rate': round(results_df['Growth Rate'].mean(), 2),\n",
        "    'TFP Growth': round(results_df['TFP Growth'].mean(), 2),\n",
        "    'Capital Deepening': round(results_df['Capital Deepening'].mean(), 2),\n",
        "    'TFP Share': round(results_df['TFP Share'].mean(), 2),\n",
        "    'Capital Share': round(results_df['Capital Share'].mean(), 2)\n",
        "}\n",
        "results_df = pd.concat([results_df, pd.DataFrame([avg_row_data])], ignore_index=True)\n",
        "\n",
        "print(\"Growth Accounting in OECD Countries: 1990-2019 period\")\n",
        "print(\"=\"*85)\n",
        "print(results_df.to_string(index=False))\n"
      ]
    },
    {
      "cell_type": "markdown",
      "source": [
        "・与えられたファイルをそのまま回してもエラーが出るようになっている\n",
        "・一つ一つに説明をいれなくてはいけない\n",
        "・経済学として何をしているか理解する\n",
        "\n",
        "☆GDP成長率＝TFP成長率＋α＊資本成長率＋（1－α）＊労働成長率"
      ],
      "metadata": {
        "id": "B7utO9Eyhtol"
      }
    }
  ]
}